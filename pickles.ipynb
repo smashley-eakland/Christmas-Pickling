{
 "cells": [
  {
   "cell_type": "markdown",
   "metadata": {},
   "source": [
    "  # Extra Pickles, please!\n",
    "\n",
    "[![The Most Festive of Scavenger Hunts](https://external-content.duckduckgo.com/iu/?u=https%3A%2F%2Fclausnet.com%2Fuploads%2Fmonthly_2016_08%2Fpickle.png.a5f696cd304beed8399b75d248e05c74.png&f=1&nofb=1)](https://external-content.duckduckgo.com/iu/?u=https%3A%2F%2Fclausnet.com%2Fuploads%2Fmonthly_2016_08%2Fpickle.png.a5f696cd304beed8399b75d248e05c74.png&f=1&nofb=1)\n",
    "\n",
    "\n",
    "Pickling is all about data serialization and converting Python objects into byte streams to be saved to disk or transferred over a network. \"Un-pickling\" or opening the files back up is, as expected, the inverse of that - building the byte streams back into the Python objects they started as. \n",
    "\n",
    "In the steps below, we will see the basic process to utilizing the Pickle library and pickling process in Python to save to disk, write, open and close. This is just a very basic introduction, but I suspect there will be a follow up to this very soon with Machine Learning on the horizon!"
   ]
  },
  {
   "cell_type": "code",
   "execution_count": 5,
   "metadata": {},
   "outputs": [],
   "source": [
    "import pickle\n",
    "#Initialize our Christmas Pickle Story and store it as an object to open with Pickle.\n",
    "\n",
    "data_obj = { \n",
    "    'The Christmas Pickle': ['Glass ornament that gets hidden in your tree','Prize for finder','Christmas Easter Egg'],\n",
    "    'Origin': ['Germany', 'Rumored', 'Unknown', 'Fairy Tale'],\n",
    "    'Tradition': [True]\n",
    "}"
   ]
  },
  {
   "cell_type": "markdown",
   "metadata": {},
   "source": [
    "#### Using \"with open\", we can skip the \"close\" step that we would normally have to do with the file. I am saving this (aka \"Pickling\" it to the disk using the 'wb' argument or \"write bytes\"."
   ]
  },
  {
   "cell_type": "code",
   "execution_count": 6,
   "metadata": {},
   "outputs": [],
   "source": [
    "with open('data.pickle', 'wb') as f:\n",
    "    pickle.dump(data_obj, f, pickle.HIGHEST_PROTOCOL)"
   ]
  },
  {
   "cell_type": "markdown",
   "metadata": {},
   "source": [
    "#### Now let's open it back up and take a peek! Denoted by 'rb' or \"read bytes\", Pickle is rebuilding the byte stream into the Python dictionary it was before."
   ]
  },
  {
   "cell_type": "code",
   "execution_count": 7,
   "metadata": {},
   "outputs": [
    {
     "data": {
      "text/plain": [
       "{'The Christmas Pickle': ['Glass ornament that gets hidden in your tree',\n",
       "  'Prize for finder',\n",
       "  'Christmas Easter Egg'],\n",
       " 'Origin': ['Germany', 'Rumored', 'Unknown', 'Fairy Tale'],\n",
       " 'Tradition': [True]}"
      ]
     },
     "execution_count": 7,
     "metadata": {},
     "output_type": "execute_result"
    }
   ],
   "source": [
    "with open('data.pickle', 'rb') as f:\n",
    "    tickle = pickle.load(f)\n",
    "tickle"
   ]
  },
  {
   "cell_type": "markdown",
   "metadata": {},
   "source": [
    "[![Christmas Pickle](https://heartbrain.marketing/wp-content/uploads/2017/12/Christmas-Pickle-1024x768.png)](https://heartbrain.marketing/wp-content/uploads/2017/12/Christmas-Pickle-1024x768.png)\n"
   ]
  },
  {
   "cell_type": "markdown",
   "metadata": {},
   "source": [
    "#### Now that you are all knowing about Christmas Pickles, will you be incorporating one into your traditions? No? Fair enough, competitions and Christmas seldom go well together for most families. I will just add a False into that category really quick...."
   ]
  },
  {
   "cell_type": "code",
   "execution_count": 8,
   "metadata": {},
   "outputs": [],
   "source": [
    "tickle['Tradition'].append(False)"
   ]
  },
  {
   "cell_type": "code",
   "execution_count": 9,
   "metadata": {
    "scrolled": true
   },
   "outputs": [
    {
     "name": "stdout",
     "output_type": "stream",
     "text": [
      "{'The Christmas Pickle': ['Glass ornament that gets hidden in your tree', 'Prize for finder', 'Christmas Easter Egg'], 'Origin': ['Germany', 'Rumored', 'Unknown', 'Fairy Tale'], 'Tradition': [True, False]}\n"
     ]
    }
   ],
   "source": [
    "print(tickle)"
   ]
  },
  {
   "cell_type": "markdown",
   "metadata": {},
   "source": [
    "### And we'll save this back into our file for later on so that as I get feedback on this odd little blog I can add more points to this dataset. #science"
   ]
  },
  {
   "cell_type": "code",
   "execution_count": 10,
   "metadata": {},
   "outputs": [],
   "source": [
    "with open('data.pickle', 'wb') as f:\n",
    "    pickle.dump(tickle, f, pickle.HIGHEST_PROTOCOL)"
   ]
  },
  {
   "cell_type": "code",
   "execution_count": 11,
   "metadata": {},
   "outputs": [
    {
     "name": "stdout",
     "output_type": "stream",
     "text": [
      "{'The Christmas Pickle': ['Glass ornament that gets hidden in your tree', 'Prize for finder', 'Christmas Easter Egg'], 'Origin': ['Germany', 'Rumored', 'Unknown', 'Fairy Tale'], 'Tradition': [True, False]}\n"
     ]
    }
   ],
   "source": [
    "tickles = open('data.pickle', 'rb')\n",
    "finale = pickle.load(tickles)\n",
    "\n",
    "print(finale)\n"
   ]
  },
  {
   "cell_type": "markdown",
   "metadata": {},
   "source": [
    "# That's all for now. Relish in all that is Pickle! I hope you have a wonderful holiday season, with or without pickles.\n",
    "[![Happy Holidays!](https://external-content.duckduckgo.com/iu/?u=https%3A%2F%2Ftexastitos.com%2Fwp-content%2Fuploads%2F2016%2F12%2FPickle-Christmas-Ornament.jpg&f=1&nofb=1)](https://external-content.duckduckgo.com/iu/?u=https%3A%2F%2Ftexastitos.com%2Fwp-content%2Fuploads%2F2016%2F12%2FPickle-Christmas-Ornament.jpg&f=1&nofb=1)\n",
    "\n"
   ]
  }
 ],
 "metadata": {
  "kernelspec": {
   "display_name": "Python (learn-env)",
   "language": "python",
   "name": "learn-env"
  },
  "language_info": {
   "codemirror_mode": {
    "name": "ipython",
    "version": 3
   },
   "file_extension": ".py",
   "mimetype": "text/x-python",
   "name": "python",
   "nbconvert_exporter": "python",
   "pygments_lexer": "ipython3",
   "version": "3.8.5"
  }
 },
 "nbformat": 4,
 "nbformat_minor": 4
}
